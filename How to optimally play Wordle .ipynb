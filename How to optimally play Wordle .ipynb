{
 "cells": [
  {
   "cell_type": "code",
   "execution_count": 117,
   "id": "unknown-special",
   "metadata": {},
   "outputs": [
    {
     "data": {
      "text/plain": [
       "10230"
      ]
     },
     "execution_count": 117,
     "metadata": {},
     "output_type": "execute_result"
    }
   ],
   "source": [
    "# Your laptop probably has an English dictionary here\n",
    "\n",
    "with open('/usr/share/dict/words') as f:\n",
    "    words = [i.strip() for i in f.readlines()]\n",
    "    words = [i for i in words if len(i) == 5]\n",
    "len(words)"
   ]
  },
  {
   "cell_type": "code",
   "execution_count": 118,
   "id": "metropolitan-sugar",
   "metadata": {},
   "outputs": [],
   "source": [
    "# https://www.powerlanguage.co.uk/wordle/\n",
    "\n",
    "from collections import defaultdict\n",
    "from collections import Counter\n",
    "\n",
    "\n",
    "INCLUDES = set()\n",
    "FIXED = set()\n",
    "TRIED = {n: set() for n in range(5)}\n",
    "COMMON = dict()\n",
    "for n in range(5):\n",
    "    COMMON[n] = Counter([word[n] for word in words])\n",
    "\n",
    "\n",
    "def add_includes(chars, words):\n",
    "    # we got some yellow letters\n",
    "    for char in chars:\n",
    "        INCLUDES.add(char)\n",
    "        words = [i for i in words if char in i]\n",
    "    return words\n",
    "\n",
    "def add_fixed(char, pos, words):\n",
    "    # we got a green letter\n",
    "    words = [i for i in words if i[pos] == char]\n",
    "    FIXED.add(pos)\n",
    "    return words\n",
    "\n",
    "def find_best_word(words):\n",
    "    # what word should I try next?\n",
    "    best_word = None\n",
    "    best_score = 0\n",
    "    for word in words:\n",
    "        score = 0\n",
    "        for n, char in enumerate(word):\n",
    "            score += COMMON[n][char]\n",
    "        if score > best_score:\n",
    "            worthy = True\n",
    "            for n, char in enumerate(word):\n",
    "                if n not in FIXED and char in TRIED[n]:\n",
    "                    worthy = False\n",
    "            if worthy:\n",
    "                best_word = word\n",
    "                best_score = score\n",
    "    for n, char in enumerate(best_word):\n",
    "        TRIED[n].add(char)\n",
    "    words.remove(best_word)\n",
    "    return best_word"
   ]
  },
  {
   "cell_type": "code",
   "execution_count": 119,
   "id": "military-philadelphia",
   "metadata": {},
   "outputs": [
    {
     "data": {
      "text/plain": [
       "'soree'"
      ]
     },
     "execution_count": 119,
     "metadata": {},
     "output_type": "execute_result"
    }
   ],
   "source": [
    "find_best_word(words)"
   ]
  },
  {
   "cell_type": "code",
   "execution_count": 120,
   "id": "dried-retention",
   "metadata": {},
   "outputs": [
    {
     "data": {
      "text/plain": [
       "3306"
      ]
     },
     "execution_count": 120,
     "metadata": {},
     "output_type": "execute_result"
    }
   ],
   "source": [
    "words = add_includes(['r'], words)\n",
    "len(words)"
   ]
  },
  {
   "cell_type": "code",
   "execution_count": 121,
   "id": "revised-montana",
   "metadata": {},
   "outputs": [
    {
     "data": {
      "text/plain": [
       "392"
      ]
     },
     "execution_count": 121,
     "metadata": {},
     "output_type": "execute_result"
    }
   ],
   "source": [
    "words = add_fixed('o', 1, words)\n",
    "len(words)"
   ]
  },
  {
   "cell_type": "code",
   "execution_count": 122,
   "id": "governing-horror",
   "metadata": {},
   "outputs": [
    {
     "data": {
      "text/plain": [
       "'hoary'"
      ]
     },
     "execution_count": 122,
     "metadata": {},
     "output_type": "execute_result"
    }
   ],
   "source": [
    "find_best_word(words)"
   ]
  },
  {
   "cell_type": "code",
   "execution_count": 123,
   "id": "urban-makeup",
   "metadata": {},
   "outputs": [
    {
     "data": {
      "text/plain": [
       "'bolar'"
      ]
     },
     "execution_count": 123,
     "metadata": {},
     "output_type": "execute_result"
    }
   ],
   "source": [
    "find_best_word(words)"
   ]
  },
  {
   "cell_type": "code",
   "execution_count": 124,
   "id": "structural-conditioning",
   "metadata": {},
   "outputs": [
    {
     "data": {
      "text/plain": [
       "39"
      ]
     },
     "execution_count": 124,
     "metadata": {},
     "output_type": "execute_result"
    }
   ],
   "source": [
    "words = add_includes(['b'], words)\n",
    "len(words)"
   ]
  },
  {
   "cell_type": "code",
   "execution_count": 125,
   "id": "dramatic-tanzania",
   "metadata": {},
   "outputs": [
    {
     "data": {
      "text/plain": [
       "'robin'"
      ]
     },
     "execution_count": 125,
     "metadata": {},
     "output_type": "execute_result"
    }
   ],
   "source": [
    "find_best_word(words)"
   ]
  },
  {
   "cell_type": "code",
   "execution_count": 126,
   "id": "preceding-melbourne",
   "metadata": {},
   "outputs": [
    {
     "data": {
      "text/plain": [
       "['rober', 'roble', 'robot', 'robur']"
      ]
     },
     "execution_count": 126,
     "metadata": {},
     "output_type": "execute_result"
    }
   ],
   "source": [
    "words = add_fixed('r', 0, words)\n",
    "words = add_fixed('b', 2, words)\n",
    "words"
   ]
  }
 ],
 "metadata": {
  "kernelspec": {
   "display_name": "Python 3",
   "language": "python",
   "name": "python3"
  },
  "language_info": {
   "codemirror_mode": {
    "name": "ipython",
    "version": 3
   },
   "file_extension": ".py",
   "mimetype": "text/x-python",
   "name": "python",
   "nbconvert_exporter": "python",
   "pygments_lexer": "ipython3",
   "version": "3.7.9"
  }
 },
 "nbformat": 4,
 "nbformat_minor": 5
}
