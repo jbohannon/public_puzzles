{
 "cells": [
  {
   "cell_type": "code",
   "execution_count": 1,
   "id": "unknown-special",
   "metadata": {},
   "outputs": [
    {
     "data": {
      "text/plain": [
       "10230"
      ]
     },
     "execution_count": 1,
     "metadata": {},
     "output_type": "execute_result"
    }
   ],
   "source": [
    "# Your laptop probably has an English dictionary here\n",
    "\n",
    "with open('/usr/share/dict/words') as f:\n",
    "    words = [i.strip() for i in f.readlines()]\n",
    "    words = [i for i in words if len(i) == 5]\n",
    "len(words)"
   ]
  },
  {
   "cell_type": "code",
   "execution_count": 16,
   "id": "relative-margin",
   "metadata": {},
   "outputs": [
    {
     "data": {
      "text/plain": [
       "2315"
      ]
     },
     "execution_count": 16,
     "metadata": {},
     "output_type": "execute_result"
    }
   ],
   "source": [
    "# But here is the actual Wordle word list!\n",
    "\n",
    "with open('wordle-answers-alphabetical.txt') as f:\n",
    "    words = [i.strip() for i in f.readlines()]\n",
    "    words = [i for i in words if len(i) == 5]\n",
    "len(words)"
   ]
  },
  {
   "cell_type": "code",
   "execution_count": 17,
   "id": "metropolitan-sugar",
   "metadata": {},
   "outputs": [],
   "source": [
    "# https://www.powerlanguage.co.uk/wordle/\n",
    "\n",
    "from collections import defaultdict\n",
    "from collections import Counter\n",
    "\n",
    "\n",
    "INCLUDES = set()\n",
    "FIXED = set()\n",
    "TRIED = {n: set() for n in range(5)}\n",
    "COMMON = dict()\n",
    "for n in range(5):\n",
    "    COMMON[n] = Counter([word[n] for word in words])\n",
    "\n",
    "\n",
    "def add_includes(chars, words):\n",
    "    # we got some yellow letters\n",
    "    for char in chars:\n",
    "        INCLUDES.add(char)\n",
    "        words = [i for i in words if char in i]\n",
    "    return words\n",
    "\n",
    "def add_fixed(char, pos, words):\n",
    "    # we got a green letter\n",
    "    words = [i for i in words if i[pos] == char]\n",
    "    FIXED.add(pos)\n",
    "    return words\n",
    "\n",
    "def find_best_word(words):\n",
    "    # what word should I try next?\n",
    "    best_word = None\n",
    "    best_score = 0\n",
    "    for word in words:\n",
    "        score = 0\n",
    "        for n, char in enumerate(word):\n",
    "            score += COMMON[n][char]\n",
    "        if score > best_score:\n",
    "            worthy = True\n",
    "            for n, char in enumerate(word):\n",
    "                if n not in FIXED and char in TRIED[n]:\n",
    "                    worthy = False\n",
    "            if worthy:\n",
    "                best_word = word\n",
    "                best_score = score\n",
    "    for n, char in enumerate(best_word):\n",
    "        TRIED[n].add(char)\n",
    "    words.remove(best_word)\n",
    "    return best_word"
   ]
  },
  {
   "cell_type": "code",
   "execution_count": 18,
   "id": "military-philadelphia",
   "metadata": {},
   "outputs": [
    {
     "data": {
      "text/plain": [
       "'slate'"
      ]
     },
     "execution_count": 18,
     "metadata": {},
     "output_type": "execute_result"
    }
   ],
   "source": [
    "find_best_word(words)"
   ]
  },
  {
   "cell_type": "code",
   "execution_count": 19,
   "id": "aboriginal-horror",
   "metadata": {},
   "outputs": [
    {
     "data": {
      "text/plain": [
       "'gooey'"
      ]
     },
     "execution_count": 19,
     "metadata": {},
     "output_type": "execute_result"
    }
   ],
   "source": [
    "find_best_word(words)"
   ]
  },
  {
   "cell_type": "code",
   "execution_count": 20,
   "id": "weighted-freeze",
   "metadata": {},
   "outputs": [
    {
     "data": {
      "text/plain": [
       "'taint'"
      ]
     },
     "execution_count": 20,
     "metadata": {},
     "output_type": "execute_result"
    }
   ],
   "source": [
    "find_best_word(words)"
   ]
  },
  {
   "cell_type": "code",
   "execution_count": 21,
   "id": "revised-montana",
   "metadata": {},
   "outputs": [
    {
     "data": {
      "text/plain": [
       "265"
      ]
     },
     "execution_count": 21,
     "metadata": {},
     "output_type": "execute_result"
    }
   ],
   "source": [
    "words = add_fixed('i', 2, words)\n",
    "len(words)"
   ]
  },
  {
   "cell_type": "code",
   "execution_count": 22,
   "id": "governing-horror",
   "metadata": {},
   "outputs": [
    {
     "data": {
      "text/plain": [
       "'briar'"
      ]
     },
     "execution_count": 22,
     "metadata": {},
     "output_type": "execute_result"
    }
   ],
   "source": [
    "find_best_word(words)"
   ]
  },
  {
   "cell_type": "code",
   "execution_count": 23,
   "id": "mediterranean-calculator",
   "metadata": {},
   "outputs": [
    {
     "data": {
      "text/plain": [
       "57"
      ]
     },
     "execution_count": 23,
     "metadata": {},
     "output_type": "execute_result"
    }
   ],
   "source": [
    "words = add_fixed('r', 1, words)\n",
    "len(words)"
   ]
  },
  {
   "cell_type": "code",
   "execution_count": 24,
   "id": "urban-makeup",
   "metadata": {
    "scrolled": true
   },
   "outputs": [
    {
     "data": {
      "text/plain": [
       "'crick'"
      ]
     },
     "execution_count": 24,
     "metadata": {},
     "output_type": "execute_result"
    }
   ],
   "source": [
    "find_best_word(words)"
   ]
  },
  {
   "cell_type": "code",
   "execution_count": 25,
   "id": "preceding-temperature",
   "metadata": {},
   "outputs": [
    {
     "data": {
      "text/plain": [
       "3"
      ]
     },
     "execution_count": 25,
     "metadata": {},
     "output_type": "execute_result"
    }
   ],
   "source": [
    "words = add_fixed('c', 3, words)\n",
    "words = add_fixed('k', 4, words)\n",
    "len(words)"
   ]
  },
  {
   "cell_type": "code",
   "execution_count": 26,
   "id": "frank-secretary",
   "metadata": {},
   "outputs": [
    {
     "data": {
      "text/plain": [
       "['brick', 'prick', 'trick']"
      ]
     },
     "execution_count": 26,
     "metadata": {},
     "output_type": "execute_result"
    }
   ],
   "source": [
    "words"
   ]
  },
  {
   "cell_type": "code",
   "execution_count": null,
   "id": "hindu-groove",
   "metadata": {},
   "outputs": [],
   "source": []
  }
 ],
 "metadata": {
  "kernelspec": {
   "display_name": "Python 3",
   "language": "python",
   "name": "python3"
  },
  "language_info": {
   "codemirror_mode": {
    "name": "ipython",
    "version": 3
   },
   "file_extension": ".py",
   "mimetype": "text/x-python",
   "name": "python",
   "nbconvert_exporter": "python",
   "pygments_lexer": "ipython3",
   "version": "3.7.9"
  }
 },
 "nbformat": 4,
 "nbformat_minor": 5
}
